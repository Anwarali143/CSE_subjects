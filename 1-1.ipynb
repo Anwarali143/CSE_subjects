1YEAR 1ST SEMESTER SUBJECTS
1. Mathematics 1 
2. Basic electrical engineering
3. Chemistry 
4. English
LABS
1. Engineering chemistry lab 
2. Engineering workshop
3. Basic electrical engineering lab
4. English language and communication skills lab
