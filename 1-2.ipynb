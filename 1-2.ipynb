1year 2nd semester
Subjects
1.	Mathematics II
2.	Applied physics
3.	Programming for problem solving
4.	Engineering graphics
5.	Environmental science
Lab
1.	Applied physics lab
2.	Programming for problem solving lab
