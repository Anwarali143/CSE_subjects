2nd year 1st semester
Subject
 1. Analog nad digital electronics 
2. Data structures
3. Computer oriented statistical method 4. Computer organization and architecture 
5. Object oriented programming using c++

Lab
1. Analog and digital electronics lab
 2. Data structures lab 
3. IT workshop lab 
4. C++ programming lab 
5. Gender sensitization lab
