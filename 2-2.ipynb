2nd year 2nd semester
Subject
1.Discrete mathematics
2.Business economics and financial analysis
3.Operating system
4.Database management systems
5.Java programming
lab
1.Operating system lab
2.Database management system lab
3.Java programming lab
4.Constitution of india
