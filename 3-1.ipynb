3year 1st semester
Subject
Formal language and automata theory
Software engineering
Computer networks
Web technologies
Professional elective-I
Professional elective-II
lab
Software engineering lab
Computer networks and web technologies lab
Advanced communication skills lab
Intellectuals property rights
