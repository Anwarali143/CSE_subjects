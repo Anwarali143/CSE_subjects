3rd year 2nd semester
   SUBJECT
   1.Machine learning
   2.Compiler design
   3.Design & anlysis of algorithm
   4.Professional elective-III
   5.Open elective-I 
   LAB
   1.Machine learning lab
   2.compiler design lab
   3.Professional elective-III
   4.Envitomentalbscience
